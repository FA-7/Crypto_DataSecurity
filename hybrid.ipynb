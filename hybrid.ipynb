{
 "cells": [
  {
   "cell_type": "code",
   "execution_count": 5,
   "metadata": {},
   "outputs": [
    {
     "name": "stdout",
     "output_type": "stream",
     "text": [
      "Defaulting to user installation because normal site-packages is not writeable\n",
      "Requirement already satisfied: pycryptodome in c:\\users\\11811\\appdata\\roaming\\python\\python311\\site-packages (3.20.0)\n",
      "Note: you may need to restart the kernel to use updated packages.\n"
     ]
    },
    {
     "name": "stderr",
     "output_type": "stream",
     "text": [
      "\n",
      "[notice] A new release of pip available: 22.3.1 -> 24.0\n",
      "[notice] To update, run: python.exe -m pip install --upgrade pip\n"
     ]
    }
   ],
   "source": [
    "%pip install pycryptodome\n"
   ]
  },
  {
   "cell_type": "code",
   "execution_count": 6,
   "metadata": {},
   "outputs": [],
   "source": [
    "from Crypto.PublicKey import RSA\n",
    "\n",
    "# Generate RSA key pair\n",
    "key_pair = RSA.generate(2048)\n",
    "\n",
    "# Export private key\n",
    "private_key = key_pair.export_key()\n",
    "with open('private_key.pem', 'wb') as private_file:\n",
    "    private_file.write(private_key)\n",
    "\n",
    "# Export public key\n",
    "public_key = key_pair.publickey().export_key()\n",
    "with open('public_key.pem', 'wb') as public_file:\n",
    "    public_file.write(public_key)"
   ]
  },
  {
   "cell_type": "code",
   "execution_count": 7,
   "metadata": {},
   "outputs": [
    {
     "ename": "KeyboardInterrupt",
     "evalue": "Interrupted by user",
     "output_type": "error",
     "traceback": [
      "\u001b[1;31m---------------------------------------------------------------------------\u001b[0m",
      "\u001b[1;31mKeyboardInterrupt\u001b[0m                         Traceback (most recent call last)",
      "Cell \u001b[1;32mIn[7], line 27\u001b[0m\n\u001b[0;32m     24\u001b[0m         file\u001b[38;5;241m.\u001b[39mwrite(encrypted_key)\n\u001b[0;32m     26\u001b[0m \u001b[38;5;66;03m# Person A inputs the message\u001b[39;00m\n\u001b[1;32m---> 27\u001b[0m message \u001b[38;5;241m=\u001b[39m \u001b[38;5;28;43minput\u001b[39;49m\u001b[43m(\u001b[49m\u001b[38;5;124;43m\"\u001b[39;49m\u001b[38;5;124;43mEnter the message: \u001b[39;49m\u001b[38;5;124;43m\"\u001b[39;49m\u001b[43m)\u001b[49m\u001b[38;5;241m.\u001b[39mencode()\n\u001b[0;32m     29\u001b[0m \u001b[38;5;66;03m# Generate AES key\u001b[39;00m\n\u001b[0;32m     30\u001b[0m aes_key \u001b[38;5;241m=\u001b[39m get_random_bytes(\u001b[38;5;241m32\u001b[39m)\n",
      "File \u001b[1;32m~\\AppData\\Roaming\\Python\\Python311\\site-packages\\ipykernel\\kernelbase.py:1270\u001b[0m, in \u001b[0;36mKernel.raw_input\u001b[1;34m(self, prompt)\u001b[0m\n\u001b[0;32m   1268\u001b[0m     msg \u001b[38;5;241m=\u001b[39m \u001b[38;5;124m\"\u001b[39m\u001b[38;5;124mraw_input was called, but this frontend does not support input requests.\u001b[39m\u001b[38;5;124m\"\u001b[39m\n\u001b[0;32m   1269\u001b[0m     \u001b[38;5;28;01mraise\u001b[39;00m StdinNotImplementedError(msg)\n\u001b[1;32m-> 1270\u001b[0m \u001b[38;5;28;01mreturn\u001b[39;00m \u001b[38;5;28;43mself\u001b[39;49m\u001b[38;5;241;43m.\u001b[39;49m\u001b[43m_input_request\u001b[49m\u001b[43m(\u001b[49m\n\u001b[0;32m   1271\u001b[0m \u001b[43m    \u001b[49m\u001b[38;5;28;43mstr\u001b[39;49m\u001b[43m(\u001b[49m\u001b[43mprompt\u001b[49m\u001b[43m)\u001b[49m\u001b[43m,\u001b[49m\n\u001b[0;32m   1272\u001b[0m \u001b[43m    \u001b[49m\u001b[38;5;28;43mself\u001b[39;49m\u001b[38;5;241;43m.\u001b[39;49m\u001b[43m_parent_ident\u001b[49m\u001b[43m[\u001b[49m\u001b[38;5;124;43m\"\u001b[39;49m\u001b[38;5;124;43mshell\u001b[39;49m\u001b[38;5;124;43m\"\u001b[39;49m\u001b[43m]\u001b[49m\u001b[43m,\u001b[49m\n\u001b[0;32m   1273\u001b[0m \u001b[43m    \u001b[49m\u001b[38;5;28;43mself\u001b[39;49m\u001b[38;5;241;43m.\u001b[39;49m\u001b[43mget_parent\u001b[49m\u001b[43m(\u001b[49m\u001b[38;5;124;43m\"\u001b[39;49m\u001b[38;5;124;43mshell\u001b[39;49m\u001b[38;5;124;43m\"\u001b[39;49m\u001b[43m)\u001b[49m\u001b[43m,\u001b[49m\n\u001b[0;32m   1274\u001b[0m \u001b[43m    \u001b[49m\u001b[43mpassword\u001b[49m\u001b[38;5;241;43m=\u001b[39;49m\u001b[38;5;28;43;01mFalse\u001b[39;49;00m\u001b[43m,\u001b[49m\n\u001b[0;32m   1275\u001b[0m \u001b[43m\u001b[49m\u001b[43m)\u001b[49m\n",
      "File \u001b[1;32m~\\AppData\\Roaming\\Python\\Python311\\site-packages\\ipykernel\\kernelbase.py:1313\u001b[0m, in \u001b[0;36mKernel._input_request\u001b[1;34m(self, prompt, ident, parent, password)\u001b[0m\n\u001b[0;32m   1310\u001b[0m \u001b[38;5;28;01mexcept\u001b[39;00m \u001b[38;5;167;01mKeyboardInterrupt\u001b[39;00m:\n\u001b[0;32m   1311\u001b[0m     \u001b[38;5;66;03m# re-raise KeyboardInterrupt, to truncate traceback\u001b[39;00m\n\u001b[0;32m   1312\u001b[0m     msg \u001b[38;5;241m=\u001b[39m \u001b[38;5;124m\"\u001b[39m\u001b[38;5;124mInterrupted by user\u001b[39m\u001b[38;5;124m\"\u001b[39m\n\u001b[1;32m-> 1313\u001b[0m     \u001b[38;5;28;01mraise\u001b[39;00m \u001b[38;5;167;01mKeyboardInterrupt\u001b[39;00m(msg) \u001b[38;5;28;01mfrom\u001b[39;00m \u001b[38;5;28;01mNone\u001b[39;00m\n\u001b[0;32m   1314\u001b[0m \u001b[38;5;28;01mexcept\u001b[39;00m \u001b[38;5;167;01mException\u001b[39;00m:\n\u001b[0;32m   1315\u001b[0m     \u001b[38;5;28mself\u001b[39m\u001b[38;5;241m.\u001b[39mlog\u001b[38;5;241m.\u001b[39mwarning(\u001b[38;5;124m\"\u001b[39m\u001b[38;5;124mInvalid Message:\u001b[39m\u001b[38;5;124m\"\u001b[39m, exc_info\u001b[38;5;241m=\u001b[39m\u001b[38;5;28;01mTrue\u001b[39;00m)\n",
      "\u001b[1;31mKeyboardInterrupt\u001b[0m: Interrupted by user"
     ]
    }
   ],
   "source": [
    "import os\n",
    "import base64\n",
    "from Crypto.Cipher import AES, PKCS1_OAEP\n",
    "from Crypto.Random import get_random_bytes\n",
    "from Crypto.PublicKey import RSA\n",
    "\n",
    "def encrypt_message(message, key):\n",
    "    # Create an AES cipher object with the key and CTR mode\n",
    "    aes_cipher = AES.new(key, AES.MODE_CTR)\n",
    "\n",
    "    # Encrypt the message\n",
    "    ciphertext = aes_cipher.encrypt(message)\n",
    "    return ciphertext, aes_cipher.nonce\n",
    "\n",
    "def export_rsa_encrypted_key(aes_key, rsa_public_key, output_file):\n",
    "    # Create a PKCS1_OAEP cipher object with the RSA public key\n",
    "    rsa_cipher = PKCS1_OAEP.new(rsa_public_key)\n",
    "\n",
    "    # Encrypt the AES key using RSA encryption\n",
    "    encrypted_key = rsa_cipher.encrypt(aes_key)\n",
    "\n",
    "    # Write the encrypted key to the output file\n",
    "    with open(output_file, 'wb') as file:\n",
    "        file.write(encrypted_key)\n",
    "\n",
    "# Person A inputs the message\n",
    "message = input(\"Enter the message: \").encode()\n",
    "\n",
    "# Generate AES key\n",
    "aes_key = get_random_bytes(32)\n",
    "\n",
    "# Encrypt the message using AES in CTR mode\n",
    "ciphertext, nonce = encrypt_message(message, aes_key)\n",
    "\n",
    "# Export the encrypted AES key using RSA\n",
    "rsa_public_key = RSA.import_key(open('public_key.pem').read())\n",
    "export_rsa_encrypted_key(aes_key, rsa_public_key, 'encrypted_key.bin')\n",
    "\n",
    "# Export the ciphertext and nonce to files\n",
    "with open('ciphertext.bin', 'wb') as file:\n",
    "    file.write(ciphertext)\n",
    "\n",
    "with open('nonce.bin', 'wb') as file:\n",
    "    file.write(nonce)\n",
    "\n",
    "# Print the encrypted ciphertext and encoded AES key\n",
    "print(\"Encrypted Ciphertext:\", base64.b64encode(ciphertext).decode())\n",
    "print(\"Encoded AES Key:\", base64.b64encode(aes_key).decode())\n"
   ]
  },
  {
   "cell_type": "code",
   "execution_count": null,
   "metadata": {},
   "outputs": [
    {
     "name": "stdout",
     "output_type": "stream",
     "text": [
      "Decrypted Message: 53\n"
     ]
    }
   ],
   "source": [
    "import base64\n",
    "from Crypto.Cipher import AES, PKCS1_OAEP\n",
    "from Crypto.PublicKey import RSA\n",
    "\n",
    "def import_rsa_private_key(private_key_file):\n",
    "    # Import the RSA private key from a file\n",
    "    private_key = RSA.import_key(open(private_key_file).read())\n",
    "    return private_key\n",
    "\n",
    "def decrypt_aes_key(encrypted_key, rsa_private_key):\n",
    "    # Create a PKCS1_OAEP cipher object with the RSA private key\n",
    "    rsa_cipher = PKCS1_OAEP.new(rsa_private_key)\n",
    "\n",
    "    # Decrypt the AES key using RSA decryption\n",
    "    aes_key = rsa_cipher.decrypt(encrypted_key)\n",
    "\n",
    "    return aes_key\n",
    "\n",
    "def decrypt_message(ciphertext, key, nonce):\n",
    "    # Create an AES cipher object with the key, CTR mode, and nonce\n",
    "    aes_cipher = AES.new(key, AES.MODE_CTR, nonce=nonce)\n",
    "\n",
    "    # Decrypt the ciphertext\n",
    "    decrypted_message = aes_cipher.decrypt(ciphertext)\n",
    "\n",
    "    return decrypted_message\n",
    "\n",
    "# Person B imports the encrypted AES key\n",
    "encrypted_key = open('encrypted_key.bin', 'rb').read()\n",
    "\n",
    "# Person B imports the private key\n",
    "private_key = import_rsa_private_key('private_key.pem')\n",
    "\n",
    "# Decrypt the AES key using RSA private key\n",
    "aes_key = decrypt_aes_key(encrypted_key, private_key)\n",
    "\n",
    "# Person B decrypts the ciphertext using the AES key\n",
    "ciphertext = open('ciphertext.bin', 'rb').read()\n",
    "nonce = open('nonce.bin', 'rb').read()\n",
    "\n",
    "decrypted_message = decrypt_message(ciphertext, aes_key, nonce)\n",
    "\n",
    "print(\"Decrypted Message:\", decrypted_message.decode())\n"
   ]
  },
  {
   "cell_type": "code",
   "execution_count": null,
   "metadata": {},
   "outputs": [],
   "source": []
  }
 ],
 "metadata": {
  "kernelspec": {
   "display_name": "Python 3",
   "language": "python",
   "name": "python3"
  },
  "language_info": {
   "codemirror_mode": {
    "name": "ipython",
    "version": 3
   },
   "file_extension": ".py",
   "mimetype": "text/x-python",
   "name": "python",
   "nbconvert_exporter": "python",
   "pygments_lexer": "ipython3",
   "version": "3.11.1"
  }
 },
 "nbformat": 4,
 "nbformat_minor": 2
}
